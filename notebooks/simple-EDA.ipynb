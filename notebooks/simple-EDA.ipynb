{
 "cells": [
  {
   "cell_type": "code",
   "execution_count": 1,
   "metadata": {},
   "outputs": [],
   "source": [
    "from pyhive import trino\n",
    "from getpass import getpass\n",
    "import pandas as pd\n",
    "\n",
    "\n",
    "from pyspark.context import SparkContext\n",
    "from pyspark.sql.session import SparkSession\n",
    "from pyspark.sql import functions as F\n",
    "from pyspark.sql.types import IntegerType\n",
    "from datalake_lib.datalake.dllib_spark import DLLibSpark\n",
    "from datalake_lib.datalake.metadata import Environment"
   ]
  },
  {
   "cell_type": "code",
   "execution_count": 2,
   "metadata": {},
   "outputs": [
    {
     "name": "stdout",
     "output_type": "stream",
     "text": [
      "<pyhive.trino.Connection object at 0x7f08cf9c9eb0>\n"
     ]
    }
   ],
   "source": [
    "conn = trino.connect(\n",
    "    host = 'trino.de.in.devneon.com.br',\n",
    "    port = 443,\n",
    "    protocol = 'https',\n",
    "    username = getpass('Insert your User u00xxxx: '),  \n",
    "    password = getpass('Insert password: '),\n",
    ")\n",
    "print(conn)"
   ]
  },
  {
   "cell_type": "code",
   "execution_count": 8,
   "metadata": {},
   "outputs": [],
   "source": [
    "# Defina as datas de início e fim para a extração\n",
    "data_inicio = '2023-09-01'\n",
    "data_fim = '2023-09-10'  # Data atual\n",
    "\n",
    "# Defina o tamanho do lote (batch size) para extração\n",
    "batch_size = 100000  # Ajuste conforme necessário\n",
    "\n",
    "# Calcula o número total de lotes\n",
    "num_lotes = (pd.to_datetime(data_fim) - pd.to_datetime(data_inicio)).days\n",
    "\n",
    "# Inicialize uma lista para armazenar os dataframes extraídos\n",
    "dfs = []\n",
    "\n",
    "# Inicialize uma variável para rastrear o progresso\n",
    "progresso = 0"
   ]
  },
  {
   "cell_type": "code",
   "execution_count": 10,
   "metadata": {},
   "outputs": [],
   "source": [
    "query_loan = f\"\"\"\n",
    "SELECT \n",
    "\tb.clientid,\n",
    "\tsalary,\n",
    "\tincomepercentage,\n",
    "\tfirstpaymentdate,\n",
    "\tcontractapproveddate,\n",
    "\treferencedate,\n",
    "\tcontractstatusdescription,\n",
    "\tfinancingvalue,\n",
    "\tinstallmentamount,\n",
    "\tindividualinstallmentvalue,\n",
    "\tinterestmonthpercentage,\n",
    "\texistsdelayopen,\n",
    "\tmaxdelayopen,\n",
    "\tquantityinstallmentspaydelay,\n",
    "\tnumberpaidinstallment\n",
    "FROM neondw_bi.staging_emprestimocontratostatus a\n",
    "INNER JOIN neondw_bi.dimension_client b on a.clientid = b.clientid\n",
    "WHERE persontype = 'PF'\n",
    "AND clientstatus = 'Ativo'\n",
    "AND contractstatuscode in (8,14)\n",
    "AND referencedate <= date_add('day', -1, current_date)\n",
    "\"\"\""
   ]
  },
  {
   "cell_type": "code",
   "execution_count": 11,
   "metadata": {},
   "outputs": [],
   "source": [
    "df_loan = pd.read_sql(query_loan, conn)"
   ]
  },
  {
   "cell_type": "code",
   "execution_count": 1,
   "metadata": {},
   "outputs": [
    {
     "ename": "NameError",
     "evalue": "name 'DLLibSpark' is not defined",
     "output_type": "error",
     "traceback": [
      "\u001b[0;31m---------------------------------------------------------------------------\u001b[0m",
      "\u001b[0;31mNameError\u001b[0m                                 Traceback (most recent call last)",
      "Cell \u001b[0;32mIn[1], line 1\u001b[0m\n\u001b[0;32m----> 1\u001b[0m dlspark \u001b[38;5;241m=\u001b[39m \u001b[43mDLLibSpark\u001b[49m(username, password)\n\u001b[1;32m      2\u001b[0m spark \u001b[38;5;241m=\u001b[39m dlspark\u001b[38;5;241m.\u001b[39mspark\n",
      "\u001b[0;31mNameError\u001b[0m: name 'DLLibSpark' is not defined"
     ]
    }
   ],
   "source": [
    "dlspark = DLLibSpark(username, password)\n",
    "spark = dlspark.spark"
   ]
  },
  {
   "cell_type": "code",
   "execution_count": null,
   "metadata": {},
   "outputs": [],
   "source": [
    "\n",
    "# Loop for para dividir a carga em lotes com base nas datas\n",
    "for _ in range(num_lotes):\n",
    "    query = f\"\"\"\n",
    "    SELECT \n",
    "        b.clientid,\n",
    "        salary,\n",
    "        incomepercentage,\n",
    "        firstpaymentdate,\n",
    "        contractapproveddate,\n",
    "        financingvalue,\n",
    "        installmentamount,\n",
    "        individualinstallmentvalue,\n",
    "        interestmonthpercentage,\n",
    "        existsdelayopen,\n",
    "        maxdelayopen,\n",
    "        quantityinstallmentspaydelay,\n",
    "        numberpaidinstallment\n",
    "    FROM neondw_bi.staging_emprestimocontratostatus a\n",
    "    INNER JOIN neondw_bi.dimension_client b on a.clientid = b.clientid\n",
    "    WHERE persontype = 'PF'\n",
    "    AND clientstatus = 'Ativo'\n",
    "    AND contractstatuscode in (8,14)\n",
    "    AND referencedate >= '{data_inicio}' AND referencedate < '{data_fim}'\n",
    "    \"\"\"\n",
    "\n",
    "    # Execute a consulta e armazene o resultado em um dataframe\n",
    "    df = pd.read_sql(query, conn)\n",
    "\n",
    "    # Adicione o dataframe à lista\n",
    "    dfs.append(df)\n",
    "\n",
    "    # Atualize as datas para o próximo lote\n",
    "    data_inicio = data_fim\n",
    "    data_fim = min(pd.to_datetime(data_fim) + pd.DateOffset(days=1), pd.to_datetime('2023-09-19'))\n",
    "\n",
    "    # Atualize o progresso\n",
    "    progresso += 1\n",
    "    print(f\"Progresso: {progresso}/{num_lotes} lotes\")"
   ]
  },
  {
   "cell_type": "code",
   "execution_count": 7,
   "metadata": {},
   "outputs": [
    {
     "data": {
      "text/plain": [
       "[]"
      ]
     },
     "execution_count": 7,
     "metadata": {},
     "output_type": "execute_result"
    }
   ],
   "source": [
    "dfs"
   ]
  }
 ],
 "metadata": {
  "kernelspec": {
   "display_name": "Python [conda env:datalake]",
   "language": "python",
   "name": "conda-env-datalake-py"
  },
  "language_info": {
   "codemirror_mode": {
    "name": "ipython",
    "version": 3
   },
   "file_extension": ".py",
   "mimetype": "text/x-python",
   "name": "python",
   "nbconvert_exporter": "python",
   "pygments_lexer": "ipython3",
   "version": "3.8.8"
  },
  "orig_nbformat": 4
 },
 "nbformat": 4,
 "nbformat_minor": 2
}
