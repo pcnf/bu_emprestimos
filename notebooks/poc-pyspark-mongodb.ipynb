{
 "cells": [
  {
   "cell_type": "markdown",
   "metadata": {},
   "source": [
    "## PoC: Pipeline to mongoDB with PySpark as ETL strategy to segmentationDB "
   ]
  },
  {
   "cell_type": "markdown",
   "metadata": {},
   "source": [
    "Author: Pedro Cândido do Nascimento Fiho \n",
    "\n",
    "Sponsor: Rafael Buck; Venkat Karum\n",
    "\n",
    "Partner: Nicolas Silva\n",
    "\n",
    "Related works: https://docs.google.com/document/d/1QQcbm9fwU-l2XokGvoEEXA3lLvBxHU3rDxGZ5KHPS8M/edit\n",
    "\n",
    "Repository:\n",
    "\n",
    "Report:"
   ]
  },
  {
   "cell_type": "markdown",
   "metadata": {},
   "source": [
    "Impacts: Increase of qualified customers (MEI, SU, Credit users, ViraCredito users)\n",
    "\n",
    "Metrics: Related to experiments. Client's lift or profits."
   ]
  },
  {
   "cell_type": "markdown",
   "metadata": {},
   "source": [
    "References:\n",
    "- Pymongo: https://pymongo.readthedocs.io/en/stable/tutorial.html\n",
    "- MongoDB divers: https://mvnrepository.com/artifact/org.mongodb\n",
    "- Spark https://dlcdn.apache.org/spark/"
   ]
  },
  {
   "cell_type": "markdown",
   "metadata": {},
   "source": [
    "How to use this Notebook:\n",
    "\n",
    "- Run all cells bellow\n",
    "- You'll be prompted to enter user id and password to execute a query on datalake.\n"
   ]
  },
  {
   "cell_type": "code",
   "execution_count": 1,
   "metadata": {},
   "outputs": [],
   "source": [
    "# Frameworks\n",
    "\n",
    "from pyhive import trino\n",
    "from getpass import getpass\n",
    "import json\n",
    "import pandas as pd\n",
    "import pymongo\n",
    "from pyspark.sql import SparkSession\n",
    "\n",
    "from pyspark import SparkConf\n",
    "from pyspark.sql import SparkSession\n",
    "from pyspark.sql.functions import *\n",
    "from pyspark.sql.types import *\n",
    "\n",
    "# Custom framework\n",
    "\n",
    "from utils import MongoPipeline"
   ]
  },
  {
   "cell_type": "markdown",
   "metadata": {},
   "source": [
    "### 1. Ingestion example from DataLake "
   ]
  },
  {
   "cell_type": "code",
   "execution_count": 2,
   "metadata": {},
   "outputs": [
    {
     "name": "stdout",
     "output_type": "stream",
     "text": [
      "Insert your User u00xxxx: ········\n",
      "Insert password: ········\n",
      "<pyhive.trino.Connection object at 0x7effe9ed56f0>\n"
     ]
    }
   ],
   "source": [
    "# Connection object to datalake\n",
    "\n",
    "conn = trino.connect(\n",
    "    host = 'trino.de.in.devneon.com.br',\n",
    "    port = 443,\n",
    "    protocol = 'https',\n",
    "    username = getpass('Insert your User u00xxxx: '),  \n",
    "    password = getpass('Insert password: '),\n",
    ")\n",
    "print(conn)"
   ]
  },
  {
   "cell_type": "code",
   "execution_count": 3,
   "metadata": {},
   "outputs": [],
   "source": [
    "# Query to simple extraction on dimension-client table\n",
    "# IMPORTANT: the limit impacts on the time execution: [1000, 4 sec],  [10000, 7 sec], [100000, 49 sec] \n",
    "# over this limits the ingestion takes much more time [from 5 min to 30 min]\n",
    "\n",
    "query_sql = f\"\"\"\n",
    "SELECT *\n",
    "FROM neondw_bi.dimension_client \n",
    "limit 1000\n",
    "\"\"\""
   ]
  },
  {
   "cell_type": "code",
   "execution_count": 4,
   "metadata": {},
   "outputs": [
    {
     "name": "stderr",
     "output_type": "stream",
     "text": [
      "<timed exec>:3: UserWarning: pandas only supports SQLAlchemy connectable (engine/connection) or database string URI or sqlite3 DBAPI2 connection. Other DBAPI2 objects are not tested. Please consider using SQLAlchemy.\n"
     ]
    },
    {
     "name": "stdout",
     "output_type": "stream",
     "text": [
      "CPU times: user 75.6 ms, sys: 22.1 ms, total: 97.7 ms\n",
      "Wall time: 3.7 s\n"
     ]
    }
   ],
   "source": [
    "%%time\n",
    "# Data ingestion to DataFrame\n",
    "\n",
    "df_datalake = pd.read_sql(query_sql, conn)"
   ]
  },
  {
   "cell_type": "code",
   "execution_count": 5,
   "metadata": {},
   "outputs": [
    {
     "name": "stdout",
     "output_type": "stream",
     "text": [
      "CPU times: user 25.9 ms, sys: 4.32 ms, total: 30.3 ms\n",
      "Wall time: 32.8 ms\n"
     ]
    }
   ],
   "source": [
    "%%time\n",
    "# Saving data to .csv\n",
    "\n",
    "df_datalake.to_csv(\"databases/query_results.csv\",index=False)"
   ]
  },
  {
   "cell_type": "markdown",
   "metadata": {},
   "source": [
    "### 2. Writing and Reading data with PyMongo and PySpark"
   ]
  },
  {
   "cell_type": "markdown",
   "metadata": {},
   "source": [
    "<b>Variables:</b>\n",
    "\n",
    "- url: mongoDB container access address in Docker\n",
    "- db_name: name of the database to be created in mongoDB\n",
    "- collection_name: name of the collection of documents that will be part of the database\n",
    "- input/output uri's: address to complete database access \n"
   ]
  },
  {
   "cell_type": "code",
   "execution_count": 6,
   "metadata": {},
   "outputs": [
    {
     "name": "stdout",
     "output_type": "stream",
     "text": [
      "Complete address to input/output: mongodb://mongodb:27017/dimension.public\n"
     ]
    }
   ],
   "source": [
    "# Database Name, Collection and url\n",
    "\n",
    "url = \"mongodb://mongodb:27017/\"\n",
    "db_name = \"dimension\"\n",
    "collection_name = \"public\"\n",
    "input_uri = url + db_name +\".\"+ collection_name\n",
    "output_uri = url + db_name +\".\"+ collection_name\n",
    "\n",
    "print(\"Complete address to input/output:\",input_uri)"
   ]
  },
  {
   "cell_type": "code",
   "execution_count": 8,
   "metadata": {},
   "outputs": [
    {
     "name": "stdout",
     "output_type": "stream",
     "text": [
      ":: loading settings :: url = jar:file:/opt/conda/lib/python3.10/site-packages/pyspark/jars/ivy-2.5.1.jar!/org/apache/ivy/core/settings/ivysettings.xml\n"
     ]
    },
    {
     "name": "stderr",
     "output_type": "stream",
     "text": [
      "Ivy Default Cache set to: /root/.ivy2/cache\n",
      "The jars for the packages stored in: /root/.ivy2/jars\n",
      "org.mongodb.spark#mongo-spark-connector_2.12 added as a dependency\n",
      ":: resolving dependencies :: org.apache.spark#spark-submit-parent-3e3a006d-bbc5-47e2-aa04-b039bb63edc7;1.0\n",
      "\tconfs: [default]\n",
      "\tfound org.mongodb.spark#mongo-spark-connector_2.12;2.4.2 in central\n",
      "\tfound org.mongodb#mongo-java-driver;3.12.5 in central\n",
      "downloading https://repo1.maven.org/maven2/org/mongodb/spark/mongo-spark-connector_2.12/2.4.2/mongo-spark-connector_2.12-2.4.2.jar ...\n",
      "\t[SUCCESSFUL ] org.mongodb.spark#mongo-spark-connector_2.12;2.4.2!mongo-spark-connector_2.12.jar (1225ms)\n",
      "downloading https://repo1.maven.org/maven2/org/mongodb/mongo-java-driver/3.12.5/mongo-java-driver-3.12.5.jar ...\n",
      "\t[SUCCESSFUL ] org.mongodb#mongo-java-driver;3.12.5!mongo-java-driver.jar (1083ms)\n",
      ":: resolution report :: resolve 3995ms :: artifacts dl 2311ms\n",
      "\t:: modules in use:\n",
      "\torg.mongodb#mongo-java-driver;3.12.5 from central in [default]\n",
      "\torg.mongodb.spark#mongo-spark-connector_2.12;2.4.2 from central in [default]\n",
      "\t---------------------------------------------------------------------\n",
      "\t|                  |            modules            ||   artifacts   |\n",
      "\t|       conf       | number| search|dwnlded|evicted|| number|dwnlded|\n",
      "\t---------------------------------------------------------------------\n",
      "\t|      default     |   2   |   2   |   2   |   0   ||   2   |   2   |\n",
      "\t---------------------------------------------------------------------\n",
      ":: retrieving :: org.apache.spark#spark-submit-parent-3e3a006d-bbc5-47e2-aa04-b039bb63edc7\n",
      "\tconfs: [default]\n",
      "\t2 artifacts copied, 0 already retrieved (2796kB/7ms)\n",
      "23/06/13 12:34:35 WARN NativeCodeLoader: Unable to load native-hadoop library for your platform... using builtin-java classes where applicable\n",
      "Setting default log level to \"WARN\".\n",
      "To adjust logging level use sc.setLogLevel(newLevel). For SparkR, use setLogLevel(newLevel).\n"
     ]
    },
    {
     "data": {
      "text/html": [
       "\n",
       "            <div>\n",
       "                <p><b>SparkSession - in-memory</b></p>\n",
       "                \n",
       "        <div>\n",
       "            <p><b>SparkContext</b></p>\n",
       "\n",
       "            <p><a href=\"http://e9fed3571dea:4040\">Spark UI</a></p>\n",
       "\n",
       "            <dl>\n",
       "              <dt>Version</dt>\n",
       "                <dd><code>v3.4.0</code></dd>\n",
       "              <dt>Master</dt>\n",
       "                <dd><code>local[*]</code></dd>\n",
       "              <dt>AppName</dt>\n",
       "                <dd><code>Spark_pipe</code></dd>\n",
       "            </dl>\n",
       "        </div>\n",
       "        \n",
       "            </div>\n",
       "        "
      ],
      "text/plain": [
       "<pyspark.sql.session.SparkSession at 0x7effa8155540>"
      ]
     },
     "execution_count": 8,
     "metadata": {},
     "output_type": "execute_result"
    }
   ],
   "source": [
    "# PySpark object to access mongoDB\n",
    "\n",
    "spark = SparkSession\\\n",
    "    .builder\\\n",
    "    .appName(\"Spark_pipe\")\\\n",
    "    .config(\"spark.mongodb.input.uri\", input_uri )\\\n",
    "    .config(\"spark.mongodb.output.uri\", output_uri )\\\n",
    "    .config(\"spark.jars.packages\", \"org.mongodb.spark:mongo-spark-connector_2.12:2.4.2\" )\\\n",
    "    .getOrCreate()\n",
    "\n",
    "(spark)"
   ]
  },
  {
   "cell_type": "markdown",
   "metadata": {},
   "source": [
    "<b>Framework options:</b>\n",
    "\n",
    "- db_address: database url\n",
    "- database: database name\n",
    "- collection: database collection\n",
    "- spark_obj: spark object instance\n",
    "- mode: Valid only to non-Spark functions - select 1, to single document operations or 0 to many documents operations\n",
    "- input_uri: spark uri \n",
    "- output_uri: spark uri"
   ]
  },
  {
   "cell_type": "markdown",
   "metadata": {},
   "source": [
    "#### 2.1 - Simple test inserting/reading many data"
   ]
  },
  {
   "cell_type": "code",
   "execution_count": 9,
   "metadata": {},
   "outputs": [
    {
     "name": "stderr",
     "output_type": "stream",
     "text": [
      "23/06/13 12:34:49 WARN GarbageCollectionMetrics: To enable non-built-in garbage collector(s) List(G1 Concurrent GC), users should configure it(them) to spark.eventLog.gcMetrics.youngGenerationGarbageCollectors or spark.eventLog.gcMetrics.oldGenerationGarbageCollectors\n"
     ]
    }
   ],
   "source": [
    "# Creating and instance of the framework through the pipe object\n",
    "\n",
    "pipe = MongoPipeline(\n",
    "    \n",
    "    url,\n",
    "    db_name,\n",
    "    collection_name,\n",
    "    spark,\n",
    "    input_uri,\n",
    "    output_uri\n",
    ")"
   ]
  },
  {
   "cell_type": "code",
   "execution_count": 10,
   "metadata": {},
   "outputs": [
    {
     "name": "stdout",
     "output_type": "stream",
     "text": [
      "CPU times: user 18.1 ms, sys: 8.81 ms, total: 26.9 ms\n",
      "Wall time: 28.7 ms\n"
     ]
    },
    {
     "data": {
      "text/html": [
       "<div>\n",
       "<style scoped>\n",
       "    .dataframe tbody tr th:only-of-type {\n",
       "        vertical-align: middle;\n",
       "    }\n",
       "\n",
       "    .dataframe tbody tr th {\n",
       "        vertical-align: top;\n",
       "    }\n",
       "\n",
       "    .dataframe thead th {\n",
       "        text-align: right;\n",
       "    }\n",
       "</style>\n",
       "<table border=\"1\" class=\"dataframe\">\n",
       "  <thead>\n",
       "    <tr style=\"text-align: right;\">\n",
       "      <th></th>\n",
       "      <th>skclient</th>\n",
       "      <th>cpf_cnpj</th>\n",
       "      <th>name</th>\n",
       "      <th>gender</th>\n",
       "      <th>email</th>\n",
       "      <th>device</th>\n",
       "      <th>platform</th>\n",
       "      <th>osversion</th>\n",
       "      <th>appversion</th>\n",
       "      <th>installsource</th>\n",
       "      <th>...</th>\n",
       "      <th>segment</th>\n",
       "      <th>flagclientemei</th>\n",
       "      <th>situacaoclientemei</th>\n",
       "      <th>flagcnpjmei</th>\n",
       "      <th>flagmeibaseativa30d</th>\n",
       "      <th>flagclientemeiregistrado</th>\n",
       "      <th>contaconductorid</th>\n",
       "      <th>fund</th>\n",
       "      <th>expurgado</th>\n",
       "      <th>persontype</th>\n",
       "    </tr>\n",
       "  </thead>\n",
       "  <tbody>\n",
       "    <tr>\n",
       "      <th>0</th>\n",
       "      <td>4655424</td>\n",
       "      <td>5031130cb6ba1ddb37c32363ddaec0aeca7caeb37bde23...</td>\n",
       "      <td>79104a52867892da60007a1a8e7705dfde3ed224cbe072...</td>\n",
       "      <td>137c92788c178987a9d55e695a37bb0acfda93cc08fcd2...</td>\n",
       "      <td>4a287b8d5dbfbfbe1d608df88ec68ecf84df0e1888c968...</td>\n",
       "      <td>motorola+moto+g(6)+play</td>\n",
       "      <td>Android</td>\n",
       "      <td>9</td>\n",
       "      <td>3.4.3</td>\n",
       "      <td>NaN</td>\n",
       "      <td>...</td>\n",
       "      <td>DIA A DIA - JOVENS</td>\n",
       "      <td>0</td>\n",
       "      <td>NULA</td>\n",
       "      <td>0</td>\n",
       "      <td>0</td>\n",
       "      <td>0</td>\n",
       "      <td>NaN</td>\n",
       "      <td>BV_PF</td>\n",
       "      <td>False</td>\n",
       "      <td>PF</td>\n",
       "    </tr>\n",
       "    <tr>\n",
       "      <th>1</th>\n",
       "      <td>4655426</td>\n",
       "      <td>ab82004fb6b8c2591d8ee0eb555a6babf3249487ba23c9...</td>\n",
       "      <td>85e606ba2f17de7ff58baa7b837d5ec79e21708f369d09...</td>\n",
       "      <td>137c92788c178987a9d55e695a37bb0acfda93cc08fcd2...</td>\n",
       "      <td>f2e0dac9c95f26d8037b58c0105431638d45d6db7455f4...</td>\n",
       "      <td>iPhone</td>\n",
       "      <td>iPhone+OS</td>\n",
       "      <td>12.3.1</td>\n",
       "      <td>3.6.3</td>\n",
       "      <td>Facebook Ads</td>\n",
       "      <td>...</td>\n",
       "      <td>EMPREENDEDORES</td>\n",
       "      <td>0</td>\n",
       "      <td>ATIVA</td>\n",
       "      <td>1</td>\n",
       "      <td>0</td>\n",
       "      <td>0</td>\n",
       "      <td>1476748.0</td>\n",
       "      <td>FIDC_PF</td>\n",
       "      <td>False</td>\n",
       "      <td>PF</td>\n",
       "    </tr>\n",
       "    <tr>\n",
       "      <th>2</th>\n",
       "      <td>4655429</td>\n",
       "      <td>532e6966f1a633df0ccb4cbc293fabd71613d7e7880193...</td>\n",
       "      <td>a0a1326a86ede67716cc0868183e05cb0ff4e104be3a3b...</td>\n",
       "      <td>6750b6ca63857bc14c538590d1322785aff98193987532...</td>\n",
       "      <td>8b6e92290be8c79aa586535a6325d175273362530e62f9...</td>\n",
       "      <td>LENOVO+Lenovo+K33b36</td>\n",
       "      <td>Android</td>\n",
       "      <td>7.0</td>\n",
       "      <td>NaN</td>\n",
       "      <td>CRM</td>\n",
       "      <td>...</td>\n",
       "      <td>EMPREENDEDORES</td>\n",
       "      <td>0</td>\n",
       "      <td>ATIVA</td>\n",
       "      <td>1</td>\n",
       "      <td>0</td>\n",
       "      <td>0</td>\n",
       "      <td>1464513.0</td>\n",
       "      <td>BV_PF</td>\n",
       "      <td>False</td>\n",
       "      <td>PF</td>\n",
       "    </tr>\n",
       "    <tr>\n",
       "      <th>3</th>\n",
       "      <td>4655430</td>\n",
       "      <td>af2131093fbd1a3270da092a0d473ffd280568a06e373c...</td>\n",
       "      <td>e9c007ca47d38ad0e0a3b86663b4a698ea50c077f14c24...</td>\n",
       "      <td>137c92788c178987a9d55e695a37bb0acfda93cc08fcd2...</td>\n",
       "      <td>0bd722df6a8278842d96e9ccba45acd740228988020b4d...</td>\n",
       "      <td>samsung+SM-G3812B</td>\n",
       "      <td>Android</td>\n",
       "      <td>4.2.2</td>\n",
       "      <td>3.4.3</td>\n",
       "      <td>googleadwords_int</td>\n",
       "      <td>...</td>\n",
       "      <td>DIA A DIA - JOVENS</td>\n",
       "      <td>0</td>\n",
       "      <td>NULA</td>\n",
       "      <td>0</td>\n",
       "      <td>0</td>\n",
       "      <td>0</td>\n",
       "      <td>NaN</td>\n",
       "      <td>BV_PF</td>\n",
       "      <td>False</td>\n",
       "      <td>PF</td>\n",
       "    </tr>\n",
       "    <tr>\n",
       "      <th>4</th>\n",
       "      <td>4655431</td>\n",
       "      <td>e2041df2053961f1dd87fbc62fb74170d2c9855f55387f...</td>\n",
       "      <td>061e6d40558ddc79ace3b99efcbbcc7a0f4094e0ea027e...</td>\n",
       "      <td>137c92788c178987a9d55e695a37bb0acfda93cc08fcd2...</td>\n",
       "      <td>a65dc88da88e73aa84edcc1b9ca76a5d5dce1f0ee44c4f...</td>\n",
       "      <td>samsung+SM-G610M</td>\n",
       "      <td>Android</td>\n",
       "      <td>8.1.0</td>\n",
       "      <td>3.4.3</td>\n",
       "      <td>Facebook Ads</td>\n",
       "      <td>...</td>\n",
       "      <td>DIA A DIA - JOVENS</td>\n",
       "      <td>0</td>\n",
       "      <td>NULA</td>\n",
       "      <td>0</td>\n",
       "      <td>0</td>\n",
       "      <td>0</td>\n",
       "      <td>NaN</td>\n",
       "      <td>NaN</td>\n",
       "      <td>False</td>\n",
       "      <td>PF</td>\n",
       "    </tr>\n",
       "  </tbody>\n",
       "</table>\n",
       "<p>5 rows × 90 columns</p>\n",
       "</div>"
      ],
      "text/plain": [
       "   skclient                                           cpf_cnpj  \\\n",
       "0   4655424  5031130cb6ba1ddb37c32363ddaec0aeca7caeb37bde23...   \n",
       "1   4655426  ab82004fb6b8c2591d8ee0eb555a6babf3249487ba23c9...   \n",
       "2   4655429  532e6966f1a633df0ccb4cbc293fabd71613d7e7880193...   \n",
       "3   4655430  af2131093fbd1a3270da092a0d473ffd280568a06e373c...   \n",
       "4   4655431  e2041df2053961f1dd87fbc62fb74170d2c9855f55387f...   \n",
       "\n",
       "                                                name  \\\n",
       "0  79104a52867892da60007a1a8e7705dfde3ed224cbe072...   \n",
       "1  85e606ba2f17de7ff58baa7b837d5ec79e21708f369d09...   \n",
       "2  a0a1326a86ede67716cc0868183e05cb0ff4e104be3a3b...   \n",
       "3  e9c007ca47d38ad0e0a3b86663b4a698ea50c077f14c24...   \n",
       "4  061e6d40558ddc79ace3b99efcbbcc7a0f4094e0ea027e...   \n",
       "\n",
       "                                              gender  \\\n",
       "0  137c92788c178987a9d55e695a37bb0acfda93cc08fcd2...   \n",
       "1  137c92788c178987a9d55e695a37bb0acfda93cc08fcd2...   \n",
       "2  6750b6ca63857bc14c538590d1322785aff98193987532...   \n",
       "3  137c92788c178987a9d55e695a37bb0acfda93cc08fcd2...   \n",
       "4  137c92788c178987a9d55e695a37bb0acfda93cc08fcd2...   \n",
       "\n",
       "                                               email                   device  \\\n",
       "0  4a287b8d5dbfbfbe1d608df88ec68ecf84df0e1888c968...  motorola+moto+g(6)+play   \n",
       "1  f2e0dac9c95f26d8037b58c0105431638d45d6db7455f4...                   iPhone   \n",
       "2  8b6e92290be8c79aa586535a6325d175273362530e62f9...     LENOVO+Lenovo+K33b36   \n",
       "3  0bd722df6a8278842d96e9ccba45acd740228988020b4d...        samsung+SM-G3812B   \n",
       "4  a65dc88da88e73aa84edcc1b9ca76a5d5dce1f0ee44c4f...         samsung+SM-G610M   \n",
       "\n",
       "    platform osversion appversion      installsource  ...             segment  \\\n",
       "0    Android         9      3.4.3                NaN  ...  DIA A DIA - JOVENS   \n",
       "1  iPhone+OS    12.3.1      3.6.3       Facebook Ads  ...      EMPREENDEDORES   \n",
       "2    Android       7.0        NaN                CRM  ...      EMPREENDEDORES   \n",
       "3    Android     4.2.2      3.4.3  googleadwords_int  ...  DIA A DIA - JOVENS   \n",
       "4    Android     8.1.0      3.4.3       Facebook Ads  ...  DIA A DIA - JOVENS   \n",
       "\n",
       "  flagclientemei situacaoclientemei flagcnpjmei flagmeibaseativa30d  \\\n",
       "0              0               NULA           0                   0   \n",
       "1              0              ATIVA           1                   0   \n",
       "2              0              ATIVA           1                   0   \n",
       "3              0               NULA           0                   0   \n",
       "4              0               NULA           0                   0   \n",
       "\n",
       "  flagclientemeiregistrado contaconductorid     fund  expurgado persontype  \n",
       "0                        0              NaN    BV_PF      False         PF  \n",
       "1                        0        1476748.0  FIDC_PF      False         PF  \n",
       "2                        0        1464513.0    BV_PF      False         PF  \n",
       "3                        0              NaN    BV_PF      False         PF  \n",
       "4                        0              NaN      NaN      False         PF  \n",
       "\n",
       "[5 rows x 90 columns]"
      ]
     },
     "execution_count": 10,
     "metadata": {},
     "output_type": "execute_result"
    }
   ],
   "source": [
    "%%time\n",
    "# Getting persisted data\n",
    "\n",
    "df = pd.read_csv(\"databases/query_results.csv\")\n",
    "df.head(5)"
   ]
  },
  {
   "cell_type": "markdown",
   "metadata": {},
   "source": [
    "<b>PyMongo: Writing data on mongoDB</b>"
   ]
  },
  {
   "cell_type": "code",
   "execution_count": 11,
   "metadata": {},
   "outputs": [
    {
     "name": "stdout",
     "output_type": "stream",
     "text": [
      "Success on DataFrame to dic conversion\n",
      "Success writing data on mongoDB\n",
      "CPU times: user 84.3 ms, sys: 1.62 ms, total: 85.9 ms\n",
      "Wall time: 113 ms\n"
     ]
    },
    {
     "data": {
      "text/plain": [
       "<pymongo.results.InsertManyResult at 0x7effa82519f0>"
      ]
     },
     "execution_count": 11,
     "metadata": {},
     "output_type": "execute_result"
    }
   ],
   "source": [
    "%%time\n",
    "pipe.pymongo_create(df)"
   ]
  },
  {
   "cell_type": "markdown",
   "metadata": {},
   "source": [
    "<b>PyMongo: Extracting data from mongoDB </b>\n",
    "\n",
    "for more info on mongoDB operators: https://www.mongodb.com/docs/manual/reference/operator/"
   ]
  },
  {
   "cell_type": "code",
   "execution_count": 12,
   "metadata": {},
   "outputs": [
    {
     "name": "stdout",
     "output_type": "stream",
     "text": [
      "Success reading mongoDB data\n"
     ]
    },
    {
     "data": {
      "text/html": [
       "<div>\n",
       "<style scoped>\n",
       "    .dataframe tbody tr th:only-of-type {\n",
       "        vertical-align: middle;\n",
       "    }\n",
       "\n",
       "    .dataframe tbody tr th {\n",
       "        vertical-align: top;\n",
       "    }\n",
       "\n",
       "    .dataframe thead th {\n",
       "        text-align: right;\n",
       "    }\n",
       "</style>\n",
       "<table border=\"1\" class=\"dataframe\">\n",
       "  <thead>\n",
       "    <tr style=\"text-align: right;\">\n",
       "      <th></th>\n",
       "      <th>_id</th>\n",
       "      <th>skclient</th>\n",
       "      <th>cpf_cnpj</th>\n",
       "      <th>name</th>\n",
       "      <th>gender</th>\n",
       "      <th>email</th>\n",
       "      <th>device</th>\n",
       "      <th>platform</th>\n",
       "      <th>osversion</th>\n",
       "      <th>appversion</th>\n",
       "      <th>...</th>\n",
       "      <th>segment</th>\n",
       "      <th>flagclientemei</th>\n",
       "      <th>situacaoclientemei</th>\n",
       "      <th>flagcnpjmei</th>\n",
       "      <th>flagmeibaseativa30d</th>\n",
       "      <th>flagclientemeiregistrado</th>\n",
       "      <th>contaconductorid</th>\n",
       "      <th>fund</th>\n",
       "      <th>expurgado</th>\n",
       "      <th>persontype</th>\n",
       "    </tr>\n",
       "  </thead>\n",
       "  <tbody>\n",
       "    <tr>\n",
       "      <th>0</th>\n",
       "      <td>64886284302cd61254d01cb1</td>\n",
       "      <td>4655424</td>\n",
       "      <td>5031130cb6ba1ddb37c32363ddaec0aeca7caeb37bde23...</td>\n",
       "      <td>79104a52867892da60007a1a8e7705dfde3ed224cbe072...</td>\n",
       "      <td>137c92788c178987a9d55e695a37bb0acfda93cc08fcd2...</td>\n",
       "      <td>4a287b8d5dbfbfbe1d608df88ec68ecf84df0e1888c968...</td>\n",
       "      <td>motorola+moto+g(6)+play</td>\n",
       "      <td>Android</td>\n",
       "      <td>9</td>\n",
       "      <td>3.4.3</td>\n",
       "      <td>...</td>\n",
       "      <td>DIA A DIA - JOVENS</td>\n",
       "      <td>0</td>\n",
       "      <td>NULA</td>\n",
       "      <td>0</td>\n",
       "      <td>0</td>\n",
       "      <td>0</td>\n",
       "      <td>NaN</td>\n",
       "      <td>BV_PF</td>\n",
       "      <td>False</td>\n",
       "      <td>PF</td>\n",
       "    </tr>\n",
       "    <tr>\n",
       "      <th>1</th>\n",
       "      <td>64886284302cd61254d01cb2</td>\n",
       "      <td>4655426</td>\n",
       "      <td>ab82004fb6b8c2591d8ee0eb555a6babf3249487ba23c9...</td>\n",
       "      <td>85e606ba2f17de7ff58baa7b837d5ec79e21708f369d09...</td>\n",
       "      <td>137c92788c178987a9d55e695a37bb0acfda93cc08fcd2...</td>\n",
       "      <td>f2e0dac9c95f26d8037b58c0105431638d45d6db7455f4...</td>\n",
       "      <td>iPhone</td>\n",
       "      <td>iPhone+OS</td>\n",
       "      <td>12.3.1</td>\n",
       "      <td>3.6.3</td>\n",
       "      <td>...</td>\n",
       "      <td>EMPREENDEDORES</td>\n",
       "      <td>0</td>\n",
       "      <td>ATIVA</td>\n",
       "      <td>1</td>\n",
       "      <td>0</td>\n",
       "      <td>0</td>\n",
       "      <td>1476748.0</td>\n",
       "      <td>FIDC_PF</td>\n",
       "      <td>False</td>\n",
       "      <td>PF</td>\n",
       "    </tr>\n",
       "    <tr>\n",
       "      <th>2</th>\n",
       "      <td>64886284302cd61254d01cb3</td>\n",
       "      <td>4655429</td>\n",
       "      <td>532e6966f1a633df0ccb4cbc293fabd71613d7e7880193...</td>\n",
       "      <td>a0a1326a86ede67716cc0868183e05cb0ff4e104be3a3b...</td>\n",
       "      <td>6750b6ca63857bc14c538590d1322785aff98193987532...</td>\n",
       "      <td>8b6e92290be8c79aa586535a6325d175273362530e62f9...</td>\n",
       "      <td>LENOVO+Lenovo+K33b36</td>\n",
       "      <td>Android</td>\n",
       "      <td>7.0</td>\n",
       "      <td>None</td>\n",
       "      <td>...</td>\n",
       "      <td>EMPREENDEDORES</td>\n",
       "      <td>0</td>\n",
       "      <td>ATIVA</td>\n",
       "      <td>1</td>\n",
       "      <td>0</td>\n",
       "      <td>0</td>\n",
       "      <td>1464513.0</td>\n",
       "      <td>BV_PF</td>\n",
       "      <td>False</td>\n",
       "      <td>PF</td>\n",
       "    </tr>\n",
       "    <tr>\n",
       "      <th>3</th>\n",
       "      <td>64886284302cd61254d01cb4</td>\n",
       "      <td>4655430</td>\n",
       "      <td>af2131093fbd1a3270da092a0d473ffd280568a06e373c...</td>\n",
       "      <td>e9c007ca47d38ad0e0a3b86663b4a698ea50c077f14c24...</td>\n",
       "      <td>137c92788c178987a9d55e695a37bb0acfda93cc08fcd2...</td>\n",
       "      <td>0bd722df6a8278842d96e9ccba45acd740228988020b4d...</td>\n",
       "      <td>samsung+SM-G3812B</td>\n",
       "      <td>Android</td>\n",
       "      <td>4.2.2</td>\n",
       "      <td>3.4.3</td>\n",
       "      <td>...</td>\n",
       "      <td>DIA A DIA - JOVENS</td>\n",
       "      <td>0</td>\n",
       "      <td>NULA</td>\n",
       "      <td>0</td>\n",
       "      <td>0</td>\n",
       "      <td>0</td>\n",
       "      <td>NaN</td>\n",
       "      <td>BV_PF</td>\n",
       "      <td>False</td>\n",
       "      <td>PF</td>\n",
       "    </tr>\n",
       "    <tr>\n",
       "      <th>4</th>\n",
       "      <td>64886284302cd61254d01cb6</td>\n",
       "      <td>4655432</td>\n",
       "      <td>e06b1d4db33c0fb25659f7a00ac0b30172de3eeaf500bb...</td>\n",
       "      <td>6d7d73fa453c0397f3eaad749773dde3bd399e9d35aa85...</td>\n",
       "      <td>6750b6ca63857bc14c538590d1322785aff98193987532...</td>\n",
       "      <td>491ba7b967480fc2d870da068936fdab0e8d44b469bd66...</td>\n",
       "      <td>TCL+5085N</td>\n",
       "      <td>Android</td>\n",
       "      <td>6.0</td>\n",
       "      <td>3.4.3</td>\n",
       "      <td>...</td>\n",
       "      <td>DIA A DIA - FAMILIA</td>\n",
       "      <td>0</td>\n",
       "      <td>NULA</td>\n",
       "      <td>0</td>\n",
       "      <td>0</td>\n",
       "      <td>0</td>\n",
       "      <td>1662054.0</td>\n",
       "      <td>BV_PF</td>\n",
       "      <td>False</td>\n",
       "      <td>PF</td>\n",
       "    </tr>\n",
       "  </tbody>\n",
       "</table>\n",
       "<p>5 rows × 91 columns</p>\n",
       "</div>"
      ],
      "text/plain": [
       "                        _id  skclient  \\\n",
       "0  64886284302cd61254d01cb1   4655424   \n",
       "1  64886284302cd61254d01cb2   4655426   \n",
       "2  64886284302cd61254d01cb3   4655429   \n",
       "3  64886284302cd61254d01cb4   4655430   \n",
       "4  64886284302cd61254d01cb6   4655432   \n",
       "\n",
       "                                            cpf_cnpj  \\\n",
       "0  5031130cb6ba1ddb37c32363ddaec0aeca7caeb37bde23...   \n",
       "1  ab82004fb6b8c2591d8ee0eb555a6babf3249487ba23c9...   \n",
       "2  532e6966f1a633df0ccb4cbc293fabd71613d7e7880193...   \n",
       "3  af2131093fbd1a3270da092a0d473ffd280568a06e373c...   \n",
       "4  e06b1d4db33c0fb25659f7a00ac0b30172de3eeaf500bb...   \n",
       "\n",
       "                                                name  \\\n",
       "0  79104a52867892da60007a1a8e7705dfde3ed224cbe072...   \n",
       "1  85e606ba2f17de7ff58baa7b837d5ec79e21708f369d09...   \n",
       "2  a0a1326a86ede67716cc0868183e05cb0ff4e104be3a3b...   \n",
       "3  e9c007ca47d38ad0e0a3b86663b4a698ea50c077f14c24...   \n",
       "4  6d7d73fa453c0397f3eaad749773dde3bd399e9d35aa85...   \n",
       "\n",
       "                                              gender  \\\n",
       "0  137c92788c178987a9d55e695a37bb0acfda93cc08fcd2...   \n",
       "1  137c92788c178987a9d55e695a37bb0acfda93cc08fcd2...   \n",
       "2  6750b6ca63857bc14c538590d1322785aff98193987532...   \n",
       "3  137c92788c178987a9d55e695a37bb0acfda93cc08fcd2...   \n",
       "4  6750b6ca63857bc14c538590d1322785aff98193987532...   \n",
       "\n",
       "                                               email                   device  \\\n",
       "0  4a287b8d5dbfbfbe1d608df88ec68ecf84df0e1888c968...  motorola+moto+g(6)+play   \n",
       "1  f2e0dac9c95f26d8037b58c0105431638d45d6db7455f4...                   iPhone   \n",
       "2  8b6e92290be8c79aa586535a6325d175273362530e62f9...     LENOVO+Lenovo+K33b36   \n",
       "3  0bd722df6a8278842d96e9ccba45acd740228988020b4d...        samsung+SM-G3812B   \n",
       "4  491ba7b967480fc2d870da068936fdab0e8d44b469bd66...                TCL+5085N   \n",
       "\n",
       "    platform osversion appversion  ...              segment  flagclientemei  \\\n",
       "0    Android         9      3.4.3  ...   DIA A DIA - JOVENS               0   \n",
       "1  iPhone+OS    12.3.1      3.6.3  ...       EMPREENDEDORES               0   \n",
       "2    Android       7.0       None  ...       EMPREENDEDORES               0   \n",
       "3    Android     4.2.2      3.4.3  ...   DIA A DIA - JOVENS               0   \n",
       "4    Android       6.0      3.4.3  ...  DIA A DIA - FAMILIA               0   \n",
       "\n",
       "  situacaoclientemei flagcnpjmei flagmeibaseativa30d flagclientemeiregistrado  \\\n",
       "0               NULA           0                   0                        0   \n",
       "1              ATIVA           1                   0                        0   \n",
       "2              ATIVA           1                   0                        0   \n",
       "3               NULA           0                   0                        0   \n",
       "4               NULA           0                   0                        0   \n",
       "\n",
       "  contaconductorid     fund expurgado  persontype  \n",
       "0              NaN    BV_PF     False          PF  \n",
       "1        1476748.0  FIDC_PF     False          PF  \n",
       "2        1464513.0    BV_PF     False          PF  \n",
       "3              NaN    BV_PF     False          PF  \n",
       "4        1662054.0    BV_PF     False          PF  \n",
       "\n",
       "[5 rows x 91 columns]"
      ]
     },
     "execution_count": 12,
     "metadata": {},
     "output_type": "execute_result"
    }
   ],
   "source": [
    "%%time\n",
    "# Here was used a simple query to get active users\n",
    "\n",
    "df_result_pymongo = pipe.pymongo_read({'clientstatus':\"Ativo\"})\n",
    "df_result_pymongo.head(5)"
   ]
  },
  {
   "cell_type": "markdown",
   "metadata": {},
   "source": [
    "<b>PySpark: Writing data on mongoDB</b>"
   ]
  },
  {
   "cell_type": "code",
   "execution_count": 13,
   "metadata": {},
   "outputs": [
    {
     "name": "stdout",
     "output_type": "stream",
     "text": [
      "Success on Spark DataFrame creation!\n"
     ]
    },
    {
     "name": "stderr",
     "output_type": "stream",
     "text": [
      "23/06/13 12:35:38 WARN package: Truncated the string representation of a plan since it was too large. This behavior can be adjusted by setting 'spark.sql.debug.maxToStringFields'.\n",
      "[Stage 0:>                                                          (0 + 8) / 8]\r"
     ]
    },
    {
     "name": "stdout",
     "output_type": "stream",
     "text": [
      "Success writing data on mongoDB\n",
      "CPU times: user 427 ms, sys: 7.74 ms, total: 435 ms\n",
      "Wall time: 4.24 s\n"
     ]
    },
    {
     "name": "stderr",
     "output_type": "stream",
     "text": [
      "                                                                                \r"
     ]
    }
   ],
   "source": [
    "%%time\n",
    "# The framework is configured to ovewrite all data using Spark. It will erase the prior\n",
    "# pymongo writing replace with the same data.\n",
    "\n",
    "pipe.pyspark_write(df)"
   ]
  },
  {
   "cell_type": "markdown",
   "metadata": {},
   "source": [
    "<b>PySpark: Reading data on mongoDB</b>"
   ]
  },
  {
   "cell_type": "code",
   "execution_count": 14,
   "metadata": {},
   "outputs": [
    {
     "name": "stdout",
     "output_type": "stream",
     "text": [
      "Success reading mongoDB data!\n",
      "CPU times: user 3.88 ms, sys: 1.84 ms, total: 5.72 ms\n",
      "Wall time: 438 ms\n"
     ]
    }
   ],
   "source": [
    "%%time\n",
    "# The framework ingests and read all data from the collection, getting the data as a spark dataframe\n",
    "\n",
    "df_result_pyspark = pipe.pyspark_read()"
   ]
  },
  {
   "cell_type": "code",
   "execution_count": 14,
   "metadata": {},
   "outputs": [
    {
     "name": "stderr",
     "output_type": "stream",
     "text": [
      "23/06/12 02:16:23 WARN package: Truncated the string representation of a plan since it was too large. This behavior can be adjusted by setting 'spark.sql.debug.maxToStringFields'.\n",
      "                                                                                \r"
     ]
    },
    {
     "name": "stdout",
     "output_type": "stream",
     "text": [
      "CPU times: user 364 ms, sys: 0 ns, total: 364 ms\n",
      "Wall time: 2.82 s\n"
     ]
    },
    {
     "data": {
      "text/html": [
       "<div>\n",
       "<style scoped>\n",
       "    .dataframe tbody tr th:only-of-type {\n",
       "        vertical-align: middle;\n",
       "    }\n",
       "\n",
       "    .dataframe tbody tr th {\n",
       "        vertical-align: top;\n",
       "    }\n",
       "\n",
       "    .dataframe thead th {\n",
       "        text-align: right;\n",
       "    }\n",
       "</style>\n",
       "<table border=\"1\" class=\"dataframe\">\n",
       "  <thead>\n",
       "    <tr style=\"text-align: right;\">\n",
       "      <th></th>\n",
       "      <th>_id</th>\n",
       "      <th>address</th>\n",
       "      <th>addresscity</th>\n",
       "      <th>addresscomplement</th>\n",
       "      <th>addressneighborhood</th>\n",
       "      <th>addressnumber</th>\n",
       "      <th>addresspostalcode</th>\n",
       "      <th>addressstate</th>\n",
       "      <th>adsetid</th>\n",
       "      <th>advertisementid</th>\n",
       "      <th>...</th>\n",
       "      <th>questionscore</th>\n",
       "      <th>registerdate</th>\n",
       "      <th>registersmalldate</th>\n",
       "      <th>registerstatus</th>\n",
       "      <th>segment</th>\n",
       "      <th>situacaoclientemei</th>\n",
       "      <th>skclient</th>\n",
       "      <th>skproductfirsttransaction</th>\n",
       "      <th>source</th>\n",
       "      <th>startdepositvalue</th>\n",
       "    </tr>\n",
       "  </thead>\n",
       "  <tbody>\n",
       "    <tr>\n",
       "      <th>0</th>\n",
       "      <td>(648675bfa7196e4d12e75170,)</td>\n",
       "      <td>8cfe6572b9cdb32fd1ad6cd0580c578111bad061cd4acc...</td>\n",
       "      <td>0b9dd47e772147501462c08457860ce63945669128bd60...</td>\n",
       "      <td>bde98b4430acf4d570a47f3864656b0d4adf5ea6bebfeb...</td>\n",
       "      <td>a1714351684ec7749ff2036aa4a093de680019fdd6d527...</td>\n",
       "      <td>5902938793f62130b4a348c08f1e748dd965fc5068f5f6...</td>\n",
       "      <td>14160420.0</td>\n",
       "      <td>75cf6d111463179065170655a25c9250b22ce1a12e44a7...</td>\n",
       "      <td>NaN</td>\n",
       "      <td>NaN</td>\n",
       "      <td>...</td>\n",
       "      <td>0.0</td>\n",
       "      <td>2019-09-16 21:53:48.340</td>\n",
       "      <td>2019-09-16</td>\n",
       "      <td>Aprovado</td>\n",
       "      <td>DIA A DIA - JOVENS</td>\n",
       "      <td>NULA</td>\n",
       "      <td>5864282.0</td>\n",
       "      <td>14.0</td>\n",
       "      <td>APP</td>\n",
       "      <td>10.00</td>\n",
       "    </tr>\n",
       "    <tr>\n",
       "      <th>1</th>\n",
       "      <td>(648675bfa7196e4d12e75167,)</td>\n",
       "      <td>81ec9d1dac5fd01fb54b4ec37144f971776e4fdc2cca0d...</td>\n",
       "      <td>6c3752d765bce76f97e10e11f02655033a40f3cb2411a6...</td>\n",
       "      <td>NaN</td>\n",
       "      <td>df7f5eae433254982b58a09e2a117464b7156660f38eb3...</td>\n",
       "      <td>2b0f4665de113c4e5a7fbaf7b241ec63dd3b57d3623a13...</td>\n",
       "      <td>35530000.0</td>\n",
       "      <td>4132cefb25e2ceb2c5fe70011571b035ee9f4c24bef1f0...</td>\n",
       "      <td>6.104422e+12</td>\n",
       "      <td>6.104421873871E12</td>\n",
       "      <td>...</td>\n",
       "      <td>0.0</td>\n",
       "      <td>2019-09-16 21:53:19.730</td>\n",
       "      <td>2019-09-16</td>\n",
       "      <td>Aprovado</td>\n",
       "      <td>DIA A DIA - JOVENS</td>\n",
       "      <td>NULA</td>\n",
       "      <td>5864275.0</td>\n",
       "      <td>NaN</td>\n",
       "      <td>APP</td>\n",
       "      <td>0.01</td>\n",
       "    </tr>\n",
       "    <tr>\n",
       "      <th>2</th>\n",
       "      <td>(648675bfa7196e4d12e75168,)</td>\n",
       "      <td>b898b0e20150a98ef9e7c9e27f553caf2da52cb4f92c08...</td>\n",
       "      <td>58b4407996f00e1636011fb957333c47e40737d6787ae8...</td>\n",
       "      <td>NaN</td>\n",
       "      <td>21de34848f53ececf704dda98678af7e84db97027a5993...</td>\n",
       "      <td>64ccd2b38891e3800f3d1cc9920b073b0da081351470b1...</td>\n",
       "      <td>8588440.0</td>\n",
       "      <td>75cf6d111463179065170655a25c9250b22ce1a12e44a7...</td>\n",
       "      <td>6.131521e+12</td>\n",
       "      <td>6.131520742271E12</td>\n",
       "      <td>...</td>\n",
       "      <td>0.0</td>\n",
       "      <td>2019-09-16 21:53:49.170</td>\n",
       "      <td>2019-09-16</td>\n",
       "      <td>Aprovado</td>\n",
       "      <td>DIA A DIA - JOVENS</td>\n",
       "      <td>NULA</td>\n",
       "      <td>5864283.0</td>\n",
       "      <td>NaN</td>\n",
       "      <td>APP</td>\n",
       "      <td>0.01</td>\n",
       "    </tr>\n",
       "    <tr>\n",
       "      <th>3</th>\n",
       "      <td>(648675bfa7196e4d12e7516d,)</td>\n",
       "      <td>664bf43f58c217523d380eefac8d8261470d522f149f44...</td>\n",
       "      <td>f085b7b2d4e38e8015dcbf5eeeb9737cc3d7d6dacf58d4...</td>\n",
       "      <td>NaN</td>\n",
       "      <td>3c0fdc3a33878a0904ea5466a3c064336a783078500119...</td>\n",
       "      <td>26897851cef92f1f0384ec66fbeda06b770fb5f1df585f...</td>\n",
       "      <td>7085373.0</td>\n",
       "      <td>75cf6d111463179065170655a25c9250b22ce1a12e44a7...</td>\n",
       "      <td>NaN</td>\n",
       "      <td>NaN</td>\n",
       "      <td>...</td>\n",
       "      <td>0.0</td>\n",
       "      <td>2019-09-16 21:53:16.657</td>\n",
       "      <td>2019-09-16</td>\n",
       "      <td>Aprovado</td>\n",
       "      <td>DIA A DIA - JOVENS</td>\n",
       "      <td>NULA</td>\n",
       "      <td>5864274.0</td>\n",
       "      <td>NaN</td>\n",
       "      <td>APP</td>\n",
       "      <td>0.01</td>\n",
       "    </tr>\n",
       "    <tr>\n",
       "      <th>4</th>\n",
       "      <td>(648675bfa7196e4d12e7516e,)</td>\n",
       "      <td>f49defe9f6967b32a5065bd78581d2b0523112b28087e9...</td>\n",
       "      <td>b93fb435d8da6a9f22da22a88eea101e48ee55adf5df4e...</td>\n",
       "      <td>bde98b4430acf4d570a47f3864656b0d4adf5ea6bebfeb...</td>\n",
       "      <td>51d33e411581015962d552e9fe86e113a1c2353c10acf6...</td>\n",
       "      <td>6200d9a9723891d9ff1f001f42c9bd6a1944f9b33d2614...</td>\n",
       "      <td>41750370.0</td>\n",
       "      <td>48f6b6507078084e1d9c2eff0b31c46aa7d539a1fecee8...</td>\n",
       "      <td>NaN</td>\n",
       "      <td>NaN</td>\n",
       "      <td>...</td>\n",
       "      <td>100.0</td>\n",
       "      <td>2019-09-16 21:53:42.993</td>\n",
       "      <td>2019-09-16</td>\n",
       "      <td>Aprovado</td>\n",
       "      <td>EMPREENDEDORES</td>\n",
       "      <td>ATIVA</td>\n",
       "      <td>5864278.0</td>\n",
       "      <td>2.0</td>\n",
       "      <td>APP</td>\n",
       "      <td>10.00</td>\n",
       "    </tr>\n",
       "  </tbody>\n",
       "</table>\n",
       "<p>5 rows × 91 columns</p>\n",
       "</div>"
      ],
      "text/plain": [
       "                           _id  \\\n",
       "0  (648675bfa7196e4d12e75170,)   \n",
       "1  (648675bfa7196e4d12e75167,)   \n",
       "2  (648675bfa7196e4d12e75168,)   \n",
       "3  (648675bfa7196e4d12e7516d,)   \n",
       "4  (648675bfa7196e4d12e7516e,)   \n",
       "\n",
       "                                             address  \\\n",
       "0  8cfe6572b9cdb32fd1ad6cd0580c578111bad061cd4acc...   \n",
       "1  81ec9d1dac5fd01fb54b4ec37144f971776e4fdc2cca0d...   \n",
       "2  b898b0e20150a98ef9e7c9e27f553caf2da52cb4f92c08...   \n",
       "3  664bf43f58c217523d380eefac8d8261470d522f149f44...   \n",
       "4  f49defe9f6967b32a5065bd78581d2b0523112b28087e9...   \n",
       "\n",
       "                                         addresscity  \\\n",
       "0  0b9dd47e772147501462c08457860ce63945669128bd60...   \n",
       "1  6c3752d765bce76f97e10e11f02655033a40f3cb2411a6...   \n",
       "2  58b4407996f00e1636011fb957333c47e40737d6787ae8...   \n",
       "3  f085b7b2d4e38e8015dcbf5eeeb9737cc3d7d6dacf58d4...   \n",
       "4  b93fb435d8da6a9f22da22a88eea101e48ee55adf5df4e...   \n",
       "\n",
       "                                   addresscomplement  \\\n",
       "0  bde98b4430acf4d570a47f3864656b0d4adf5ea6bebfeb...   \n",
       "1                                                NaN   \n",
       "2                                                NaN   \n",
       "3                                                NaN   \n",
       "4  bde98b4430acf4d570a47f3864656b0d4adf5ea6bebfeb...   \n",
       "\n",
       "                                 addressneighborhood  \\\n",
       "0  a1714351684ec7749ff2036aa4a093de680019fdd6d527...   \n",
       "1  df7f5eae433254982b58a09e2a117464b7156660f38eb3...   \n",
       "2  21de34848f53ececf704dda98678af7e84db97027a5993...   \n",
       "3  3c0fdc3a33878a0904ea5466a3c064336a783078500119...   \n",
       "4  51d33e411581015962d552e9fe86e113a1c2353c10acf6...   \n",
       "\n",
       "                                       addressnumber  addresspostalcode  \\\n",
       "0  5902938793f62130b4a348c08f1e748dd965fc5068f5f6...         14160420.0   \n",
       "1  2b0f4665de113c4e5a7fbaf7b241ec63dd3b57d3623a13...         35530000.0   \n",
       "2  64ccd2b38891e3800f3d1cc9920b073b0da081351470b1...          8588440.0   \n",
       "3  26897851cef92f1f0384ec66fbeda06b770fb5f1df585f...          7085373.0   \n",
       "4  6200d9a9723891d9ff1f001f42c9bd6a1944f9b33d2614...         41750370.0   \n",
       "\n",
       "                                        addressstate       adsetid  \\\n",
       "0  75cf6d111463179065170655a25c9250b22ce1a12e44a7...           NaN   \n",
       "1  4132cefb25e2ceb2c5fe70011571b035ee9f4c24bef1f0...  6.104422e+12   \n",
       "2  75cf6d111463179065170655a25c9250b22ce1a12e44a7...  6.131521e+12   \n",
       "3  75cf6d111463179065170655a25c9250b22ce1a12e44a7...           NaN   \n",
       "4  48f6b6507078084e1d9c2eff0b31c46aa7d539a1fecee8...           NaN   \n",
       "\n",
       "     advertisementid  ...  questionscore             registerdate  \\\n",
       "0                NaN  ...            0.0  2019-09-16 21:53:48.340   \n",
       "1  6.104421873871E12  ...            0.0  2019-09-16 21:53:19.730   \n",
       "2  6.131520742271E12  ...            0.0  2019-09-16 21:53:49.170   \n",
       "3                NaN  ...            0.0  2019-09-16 21:53:16.657   \n",
       "4                NaN  ...          100.0  2019-09-16 21:53:42.993   \n",
       "\n",
       "  registersmalldate registerstatus             segment situacaoclientemei  \\\n",
       "0        2019-09-16       Aprovado  DIA A DIA - JOVENS               NULA   \n",
       "1        2019-09-16       Aprovado  DIA A DIA - JOVENS               NULA   \n",
       "2        2019-09-16       Aprovado  DIA A DIA - JOVENS               NULA   \n",
       "3        2019-09-16       Aprovado  DIA A DIA - JOVENS               NULA   \n",
       "4        2019-09-16       Aprovado      EMPREENDEDORES              ATIVA   \n",
       "\n",
       "    skclient skproductfirsttransaction source  startdepositvalue  \n",
       "0  5864282.0                      14.0    APP              10.00  \n",
       "1  5864275.0                       NaN    APP               0.01  \n",
       "2  5864283.0                       NaN    APP               0.01  \n",
       "3  5864274.0                       NaN    APP               0.01  \n",
       "4  5864278.0                       2.0    APP              10.00  \n",
       "\n",
       "[5 rows x 91 columns]"
      ]
     },
     "execution_count": 14,
     "metadata": {},
     "output_type": "execute_result"
    }
   ],
   "source": [
    "%%time\n",
    "# Converting to Pandas\n",
    "\n",
    "df_result_pyspark = df_result_pyspark.toPandas()\n",
    "df_result_pyspark.head(5)"
   ]
  },
  {
   "cell_type": "markdown",
   "metadata": {},
   "source": [
    "#### 2.2 - Simple test inserting/reading one data with Pymongo"
   ]
  },
  {
   "cell_type": "code",
   "execution_count": 15,
   "metadata": {},
   "outputs": [
    {
     "name": "stdout",
     "output_type": "stream",
     "text": [
      "CPU times: user 11.4 ms, sys: 483 µs, total: 11.9 ms\n",
      "Wall time: 27.8 ms\n"
     ]
    }
   ],
   "source": [
    "%%time\n",
    "# Creating a simple customer object\n",
    "\n",
    "client_zero = {\n",
    "  \"clientid\": 0,\n",
    "  \"persontype\": \"PF\",\n",
    "  \"clientstatus\" : \"Inativo\"\n",
    "}\n",
    "\n",
    "df_client_0_spark = spark.createDataFrame([client_zero])\n",
    "\n",
    "df_client_0_pandas = pd.DataFrame([client_zero])\n",
    "\n"
   ]
  },
  {
   "cell_type": "code",
   "execution_count": 16,
   "metadata": {},
   "outputs": [
    {
     "name": "stdout",
     "output_type": "stream",
     "text": [
      "+--------+------------+----------+\n",
      "|clientid|clientstatus|persontype|\n",
      "+--------+------------+----------+\n",
      "|       0|     Inativo|        PF|\n",
      "+--------+------------+----------+\n",
      "\n"
     ]
    }
   ],
   "source": [
    "# Spark Dataframe \n",
    "\n",
    "df_client_0_spark.show()"
   ]
  },
  {
   "cell_type": "code",
   "execution_count": 17,
   "metadata": {},
   "outputs": [
    {
     "data": {
      "text/html": [
       "<div>\n",
       "<style scoped>\n",
       "    .dataframe tbody tr th:only-of-type {\n",
       "        vertical-align: middle;\n",
       "    }\n",
       "\n",
       "    .dataframe tbody tr th {\n",
       "        vertical-align: top;\n",
       "    }\n",
       "\n",
       "    .dataframe thead th {\n",
       "        text-align: right;\n",
       "    }\n",
       "</style>\n",
       "<table border=\"1\" class=\"dataframe\">\n",
       "  <thead>\n",
       "    <tr style=\"text-align: right;\">\n",
       "      <th></th>\n",
       "      <th>clientid</th>\n",
       "      <th>persontype</th>\n",
       "      <th>clientstatus</th>\n",
       "    </tr>\n",
       "  </thead>\n",
       "  <tbody>\n",
       "    <tr>\n",
       "      <th>0</th>\n",
       "      <td>0</td>\n",
       "      <td>PF</td>\n",
       "      <td>Inativo</td>\n",
       "    </tr>\n",
       "  </tbody>\n",
       "</table>\n",
       "</div>"
      ],
      "text/plain": [
       "   clientid persontype clientstatus\n",
       "0         0         PF      Inativo"
      ]
     },
     "execution_count": 17,
     "metadata": {},
     "output_type": "execute_result"
    }
   ],
   "source": [
    "# Pandas Dataframe \n",
    "\n",
    "df_client_0_pandas"
   ]
  },
  {
   "cell_type": "code",
   "execution_count": 18,
   "metadata": {},
   "outputs": [
    {
     "name": "stdout",
     "output_type": "stream",
     "text": [
      "Success on DataFrame to dic conversion\n",
      "Success writing data on mongoDB\n",
      "CPU times: user 2.49 ms, sys: 1.2 ms, total: 3.69 ms\n",
      "Wall time: 2.01 ms\n"
     ]
    },
    {
     "data": {
      "text/plain": [
       "<pymongo.results.InsertManyResult at 0x7effc465aaa0>"
      ]
     },
     "execution_count": 18,
     "metadata": {},
     "output_type": "execute_result"
    }
   ],
   "source": [
    "%%time\n",
    "# Creating only one line of data\n",
    "\n",
    "pipe.pymongo_create(df_client_0_pandas)"
   ]
  },
  {
   "cell_type": "code",
   "execution_count": 19,
   "metadata": {},
   "outputs": [
    {
     "name": "stdout",
     "output_type": "stream",
     "text": [
      "Success reading mongoDB data\n",
      "CPU times: user 2.43 ms, sys: 0 ns, total: 2.43 ms\n",
      "Wall time: 2.4 ms\n"
     ]
    },
    {
     "data": {
      "text/html": [
       "<div>\n",
       "<style scoped>\n",
       "    .dataframe tbody tr th:only-of-type {\n",
       "        vertical-align: middle;\n",
       "    }\n",
       "\n",
       "    .dataframe tbody tr th {\n",
       "        vertical-align: top;\n",
       "    }\n",
       "\n",
       "    .dataframe thead th {\n",
       "        text-align: right;\n",
       "    }\n",
       "</style>\n",
       "<table border=\"1\" class=\"dataframe\">\n",
       "  <thead>\n",
       "    <tr style=\"text-align: right;\">\n",
       "      <th></th>\n",
       "      <th>_id</th>\n",
       "      <th>clientid</th>\n",
       "      <th>persontype</th>\n",
       "      <th>clientstatus</th>\n",
       "    </tr>\n",
       "  </thead>\n",
       "  <tbody>\n",
       "    <tr>\n",
       "      <th>0</th>\n",
       "      <td>648862e2302cd61254d02099</td>\n",
       "      <td>0</td>\n",
       "      <td>PF</td>\n",
       "      <td>Inativo</td>\n",
       "    </tr>\n",
       "  </tbody>\n",
       "</table>\n",
       "</div>"
      ],
      "text/plain": [
       "                        _id  clientid persontype clientstatus\n",
       "0  648862e2302cd61254d02099         0         PF      Inativo"
      ]
     },
     "execution_count": 19,
     "metadata": {},
     "output_type": "execute_result"
    }
   ],
   "source": [
    "%%time\n",
    "# Creating only one line of data\n",
    "\n",
    "query_one = {\"clientid\": 0}\n",
    "\n",
    "pipe.pymongo_read(query_one)"
   ]
  },
  {
   "cell_type": "code",
   "execution_count": 20,
   "metadata": {},
   "outputs": [
    {
     "name": "stdout",
     "output_type": "stream",
     "text": [
      "Success writing data on mongoDB\n",
      "Success reading mongoDB data\n",
      "CPU times: user 3.27 ms, sys: 235 µs, total: 3.51 ms\n",
      "Wall time: 5.51 ms\n"
     ]
    },
    {
     "data": {
      "text/html": [
       "<div>\n",
       "<style scoped>\n",
       "    .dataframe tbody tr th:only-of-type {\n",
       "        vertical-align: middle;\n",
       "    }\n",
       "\n",
       "    .dataframe tbody tr th {\n",
       "        vertical-align: top;\n",
       "    }\n",
       "\n",
       "    .dataframe thead th {\n",
       "        text-align: right;\n",
       "    }\n",
       "</style>\n",
       "<table border=\"1\" class=\"dataframe\">\n",
       "  <thead>\n",
       "    <tr style=\"text-align: right;\">\n",
       "      <th></th>\n",
       "      <th>_id</th>\n",
       "      <th>clientid</th>\n",
       "      <th>persontype</th>\n",
       "      <th>clientstatus</th>\n",
       "      <th>x</th>\n",
       "    </tr>\n",
       "  </thead>\n",
       "  <tbody>\n",
       "    <tr>\n",
       "      <th>0</th>\n",
       "      <td>648862e2302cd61254d02099</td>\n",
       "      <td>0</td>\n",
       "      <td>PF</td>\n",
       "      <td>Inativo</td>\n",
       "      <td>0</td>\n",
       "    </tr>\n",
       "  </tbody>\n",
       "</table>\n",
       "</div>"
      ],
      "text/plain": [
       "                        _id  clientid persontype clientstatus  x\n",
       "0  648862e2302cd61254d02099         0         PF      Inativo  0"
      ]
     },
     "execution_count": 20,
     "metadata": {},
     "output_type": "execute_result"
    }
   ],
   "source": [
    "%%time\n",
    "# Creating one attribute of a client\n",
    "\n",
    "where = {'clientid': 0}\n",
    "what_include = {'$inc': {'x': 0}}\n",
    "\n",
    "\n",
    "pipe.pymongo_update(where, what_include)\n",
    "pipe.pymongo_read(query_one)"
   ]
  },
  {
   "cell_type": "code",
   "execution_count": 22,
   "metadata": {},
   "outputs": [
    {
     "name": "stdout",
     "output_type": "stream",
     "text": [
      "Success writing data on mongoDB\n",
      "Success reading mongoDB data\n",
      "CPU times: user 3.07 ms, sys: 1.44 ms, total: 4.5 ms\n",
      "Wall time: 4.7 ms\n"
     ]
    },
    {
     "data": {
      "text/html": [
       "<div>\n",
       "<style scoped>\n",
       "    .dataframe tbody tr th:only-of-type {\n",
       "        vertical-align: middle;\n",
       "    }\n",
       "\n",
       "    .dataframe tbody tr th {\n",
       "        vertical-align: top;\n",
       "    }\n",
       "\n",
       "    .dataframe thead th {\n",
       "        text-align: right;\n",
       "    }\n",
       "</style>\n",
       "<table border=\"1\" class=\"dataframe\">\n",
       "  <thead>\n",
       "    <tr style=\"text-align: right;\">\n",
       "      <th></th>\n",
       "      <th>_id</th>\n",
       "      <th>clientid</th>\n",
       "      <th>persontype</th>\n",
       "      <th>clientstatus</th>\n",
       "      <th>x</th>\n",
       "    </tr>\n",
       "  </thead>\n",
       "  <tbody>\n",
       "    <tr>\n",
       "      <th>0</th>\n",
       "      <td>648862e2302cd61254d02099</td>\n",
       "      <td>0</td>\n",
       "      <td>PF</td>\n",
       "      <td>Inativo</td>\n",
       "      <td>1</td>\n",
       "    </tr>\n",
       "  </tbody>\n",
       "</table>\n",
       "</div>"
      ],
      "text/plain": [
       "                        _id  clientid persontype clientstatus  x\n",
       "0  648862e2302cd61254d02099         0         PF      Inativo  1"
      ]
     },
     "execution_count": 22,
     "metadata": {},
     "output_type": "execute_result"
    }
   ],
   "source": [
    "%%time\n",
    "# Change one attribute of a client\n",
    "\n",
    "where = {'clientid': 0}\n",
    "what_change = {'$set': {'x': 1}}\n",
    "\n",
    "pipe.pymongo_update(where, what_change)\n",
    "pipe.pymongo_read(query_one)"
   ]
  },
  {
   "cell_type": "code",
   "execution_count": null,
   "metadata": {},
   "outputs": [],
   "source": []
  }
 ],
 "metadata": {
  "interpreter": {
   "hash": "455c51f38fafa43a1ab8bf8c2d1a53ddfa9e892b365a7b9654c831975f5eb40b"
  },
  "kernelspec": {
   "display_name": "Python 3 (ipykernel)",
   "language": "python",
   "name": "python3"
  },
  "language_info": {
   "codemirror_mode": {
    "name": "ipython",
    "version": 3
   },
   "file_extension": ".py",
   "mimetype": "text/x-python",
   "name": "python",
   "nbconvert_exporter": "python",
   "pygments_lexer": "ipython3",
   "version": "3.10.10"
  }
 },
 "nbformat": 4,
 "nbformat_minor": 2
}
